{
 "cells": [
  {
   "cell_type": "code",
   "execution_count": null,
   "metadata": {
    "collapsed": true
   },
   "outputs": [],
   "source": [
    "from __future__ import absolute_import\n",
    "from __future__ import division\n",
    "from __future__ import print_function\n",
    "\n",
    "import numpy as np\n",
    "import tensorflow as tf\n",
    "import time\n",
    "import data_helpers"
   ]
  },
  {
   "cell_type": "code",
   "execution_count": null,
   "metadata": {
    "collapsed": true
   },
   "outputs": [],
   "source": [
    "beginTime = time.time()\n",
    "\n",
    "# parameter initialization\n",
    "batch_size = 100\n",
    "learning_rate = 0.005\n",
    "max_steps = 1000\n",
    "\n",
    "# data preparation\n",
    "data_sets = data_helpers.load_data()"
   ]
  },
  {
   "cell_type": "code",
   "execution_count": null,
   "metadata": {
    "collapsed": true
   },
   "outputs": [],
   "source": [
    "images_placeholder = tf.placeholder(tf.float32, shape=[None, 3072])\n",
    "labels_placeholder = tf.placeholder(tf.int64, shape=[None])"
   ]
  },
  {
   "cell_type": "code",
   "execution_count": null,
   "metadata": {
    "collapsed": true
   },
   "outputs": [],
   "source": [
    "# weight initialization\n",
    "weights = tf.Variable(tf.zeros([3072,10]))\n",
    "biases = tf.Variable(tf.zeros([10]))"
   ]
  },
  {
   "cell_type": "code",
   "execution_count": null,
   "metadata": {},
   "outputs": [],
   "source": [
    "logits = tf.matmul(images_placeholder, weights) + biases"
   ]
  },
  {
   "cell_type": "code",
   "execution_count": null,
   "metadata": {},
   "outputs": [],
   "source": [
    "loss = tf.reduce_mean(tf.nn.sparse_softmax_cross_entropy_with_logits(logits=logits, labels=labels_placeholder))"
   ]
  },
  {
   "cell_type": "code",
   "execution_count": null,
   "metadata": {
    "collapsed": true
   },
   "outputs": [],
   "source": [
    "# define the training operation\n",
    "train_step = tf.train.GradientDescentOptimizer(learning_rate=learning_rate).minimize(loss)"
   ]
  },
  {
   "cell_type": "code",
   "execution_count": null,
   "metadata": {
    "collapsed": true
   },
   "outputs": [],
   "source": [
    "# operation comparing prediction with true label\n",
    "correct_prediction = tf.equal(tf.argmax(logits, 1), labels_placeholder)\n",
    "\n",
    "# operation calculating the accuracy of our predictions\n",
    "accuracy = tf.reduce_mean(tf.cast(correct_prediction, tf.float32))"
   ]
  },
  {
   "cell_type": "code",
   "execution_count": null,
   "metadata": {},
   "outputs": [],
   "source": [
    "# run the tensorflow graph\n",
    "\n",
    "with tf.Session() as sess:\n",
    "    # initializa variables\n",
    "    sess.run(tf.global_variables_initializer())\n",
    "    \n",
    "    # repeat max_steps times\n",
    "    for i in range(max_steps):\n",
    "        indices = np.random.choice(data_sets['images_train'].shape[0], batch_size)\n",
    "        images_batch = data_sets['images_train'][indices]\n",
    "        labels_batch = data_sets['labels_train'][indices]\n",
    "        \n",
    "        if i % 100 == 0:\n",
    "            train_accuracy = sess.run(accuracy, feed_dict={\n",
    "                images_placeholder: images_batch, labels_placeholder: labels_batch\n",
    "            })\n",
    "            print('Step {:5d}: training accuracy {:g}'.format(i, train_accuracy))\n",
    "        sess.run(train_step, feed_dict={images_placeholder: images_batch,\n",
    "                                       labels_placeholder: labels_batch})\n",
    "    \n",
    "    test_accuracy = sess.run(accuracy, feed_dict={\n",
    "        images_placeholder: data_sets['images_test'],\n",
    "        labels_placeholder: data_sets['labels_test']\n",
    "    })\n",
    "    print('Test accuracy {:g}'.format(test_accuracy))\n",
    "\n"
   ]
  },
  {
   "cell_type": "code",
   "execution_count": null,
   "metadata": {},
   "outputs": [],
   "source": [
    "endTime = time.time()\n",
    "print('Total time: {:5.2f}s'.format(endTime - beginTime))"
   ]
  },
  {
   "cell_type": "code",
   "execution_count": null,
   "metadata": {
    "collapsed": true
   },
   "outputs": [],
   "source": []
  }
 ],
 "metadata": {
  "kernelspec": {
   "display_name": "Python 3",
   "language": "python",
   "name": "python3"
  },
  "language_info": {
   "codemirror_mode": {
    "name": "ipython",
    "version": 3
   },
   "file_extension": ".py",
   "mimetype": "text/x-python",
   "name": "python",
   "nbconvert_exporter": "python",
   "pygments_lexer": "ipython3",
   "version": "3.5.3"
  }
 },
 "nbformat": 4,
 "nbformat_minor": 2
}
